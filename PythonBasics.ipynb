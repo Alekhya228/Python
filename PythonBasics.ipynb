{
  "cells": [
    {
      "cell_type": "markdown",
      "metadata": {
        "id": "view-in-github",
        "colab_type": "text"
      },
      "source": [
        "<a href=\"https://colab.research.google.com/github/Alekhya228/Python/blob/main/PythonBasics.ipynb\" target=\"_parent\"><img src=\"https://colab.research.google.com/assets/colab-badge.svg\" alt=\"Open In Colab\"/></a>"
      ]
    },
    {
      "cell_type": "code",
      "source": [
        "b=float(input())\n",
        "h=float(input())\n",
        "A=1/2*b*h\n",
        "print(\"area:\",A)"
      ],
      "metadata": {
        "colab": {
          "base_uri": "https://localhost:8080/"
        },
        "id": "KVc2RGsYcW93",
        "outputId": "ce37b967-7a18-4db2-a2f6-39b10f9a8739"
      },
      "execution_count": null,
      "outputs": [
        {
          "output_type": "stream",
          "name": "stdout",
          "text": [
            "7\n",
            "3\n",
            "area: 10.5\n"
          ]
        }
      ]
    },
    {
      "cell_type": "code",
      "source": [
        "a=int(input())\n",
        "if(a%2==0):\n",
        "    print(\"even\")\n",
        "else:\n",
        "    print(\"odd\")"
      ],
      "metadata": {
        "colab": {
          "base_uri": "https://localhost:8080/"
        },
        "id": "ip5u-bNPdY9b",
        "outputId": "db9dd916-189f-4f7d-e1db-473a9fb34269"
      },
      "execution_count": null,
      "outputs": [
        {
          "output_type": "stream",
          "name": "stdout",
          "text": [
            "7\n",
            "odd\n"
          ]
        }
      ]
    },
    {
      "cell_type": "code",
      "source": [
        "n=15\n",
        "if(n%3==0):\n",
        "    print(\"fizz\")\n",
        "elif(n%5==0):\n",
        "    print(\"buzz\")\n",
        "else:\n",
        "    print(\"fizz,buzz\")"
      ],
      "metadata": {
        "colab": {
          "base_uri": "https://localhost:8080/"
        },
        "id": "cv3vbujRmuym",
        "outputId": "6e28c566-121c-4868-fef3-57295ca7e27b"
      },
      "execution_count": null,
      "outputs": [
        {
          "output_type": "stream",
          "name": "stdout",
          "text": [
            "fizz\n"
          ]
        }
      ]
    },
    {
      "cell_type": "code",
      "source": [
        "a=int(input(\"enter a number:\"))\n",
        "if(a%2==0 and a%5==0):\n",
        "    print(\"buzz\")\n",
        "else:\n",
        "    print(\"fizz\")"
      ],
      "metadata": {
        "colab": {
          "base_uri": "https://localhost:8080/"
        },
        "id": "Ju-p7i4MpNim",
        "outputId": "32724bdf-62b8-4eb2-95c4-2d0cd02bf6aa"
      },
      "execution_count": null,
      "outputs": [
        {
          "output_type": "stream",
          "name": "stdout",
          "text": [
            "enter a number:10\n",
            "buzz\n"
          ]
        }
      ]
    },
    {
      "cell_type": "code",
      "source": [
        "a=int(input(\"enter a number:\"))\n",
        "b=int(input(\"enter a number:\"))\n",
        "c=a+b\n",
        "print(c)\n",
        "d=a-b\n",
        "print(d)\n",
        "e=a*b\n",
        "print(e)\n",
        "f=a%b\n",
        "print(f)\n",
        "g=a/b\n",
        "print(g)"
      ],
      "metadata": {
        "colab": {
          "base_uri": "https://localhost:8080/"
        },
        "id": "tId75sCRt1sx",
        "outputId": "5effbee0-c344-4520-a0e8-2c123078d046"
      },
      "execution_count": null,
      "outputs": [
        {
          "output_type": "stream",
          "name": "stdout",
          "text": [
            "enter a number:4\n",
            "enter a number:16\n",
            "20\n",
            "-12\n",
            "64\n",
            "4\n",
            "0.25\n"
          ]
        }
      ]
    },
    {
      "cell_type": "code",
      "source": [
        "a=int(input(\"enter a number:\"))\n",
        "if(a>0):\n",
        "    print(\"positive\")\n",
        "elif(a<0):\n",
        "    print(\"negative\")\n",
        "else:\n",
        "    print(\"0\")"
      ],
      "metadata": {
        "colab": {
          "base_uri": "https://localhost:8080/"
        },
        "id": "zYD1aznzzmm1",
        "outputId": "72702d3a-01cf-41f3-d9ff-59472195da00"
      },
      "execution_count": null,
      "outputs": [
        {
          "output_type": "stream",
          "name": "stdout",
          "text": [
            "enter a number:5\n",
            "positive\n"
          ]
        }
      ]
    },
    {
      "cell_type": "code",
      "source": [
        "a=int(input(\"enter a number:\"))\n",
        "if(a>=18):\n",
        "    print(\"eligible\")\n",
        "else:\n",
        "    print(\"not eligible\")"
      ],
      "metadata": {
        "colab": {
          "base_uri": "https://localhost:8080/"
        },
        "id": "hE3rb4uN3Z-T",
        "outputId": "a1440b31-c5bc-4379-ab21-b7231a7e0da2"
      },
      "execution_count": null,
      "outputs": [
        {
          "output_type": "stream",
          "name": "stdout",
          "text": [
            "enter a number:21\n",
            "eligible\n"
          ]
        }
      ]
    },
    {
      "cell_type": "code",
      "source": [
        "a=int(input(\"enter a number:\"))\n",
        "if(a%2==0 and a%4==0):\n",
        "    print(\"fizz\")\n",
        "elif(a%5==0):\n",
        "    print(\"buzz\")\n",
        "else:\n",
        "    print(\"not divisible\")"
      ],
      "metadata": {
        "colab": {
          "base_uri": "https://localhost:8080/"
        },
        "id": "_-RH0f6d3_Bj",
        "outputId": "9da40195-f81c-4335-bfc9-de85b561bb99"
      },
      "execution_count": null,
      "outputs": [
        {
          "output_type": "stream",
          "name": "stdout",
          "text": [
            "enter a number:20\n",
            "fizz\n"
          ]
        }
      ]
    },
    {
      "cell_type": "code",
      "source": [
        "print(\"English marks of the student:\")\n",
        "a=int(input(\"enter a number:\"))\n",
        "if(a>80):\n",
        "    print(\"A grade\")\n",
        "elif(a>55 and a<80):\n",
        "    print(\"B grade\")\n",
        "else:\n",
        "    print(\"C grade\")"
      ],
      "metadata": {
        "colab": {
          "base_uri": "https://localhost:8080/"
        },
        "id": "4hGmFa6o4_Xg",
        "outputId": "4dcb5074-9139-4607-8adb-3681572b38f1"
      },
      "execution_count": null,
      "outputs": [
        {
          "output_type": "stream",
          "name": "stdout",
          "text": [
            "English marks of the student:\n",
            "enter a number:59\n",
            "B grade\n"
          ]
        }
      ]
    },
    {
      "cell_type": "code",
      "source": [
        "a=int(input(\"enter a number:\"))\n",
        "b=int(input(\"enter a number:\"))\n",
        "c=int(input(\"enter a number:\"))\n",
        "if(a>b and a>c):\n",
        "    print(\"a is greater\")\n",
        "elif(b>a and b>c):\n",
        "    print(\"b is greater\")\n",
        "else:\n",
        "    print(\"c is greater\")"
      ],
      "metadata": {
        "colab": {
          "base_uri": "https://localhost:8080/"
        },
        "id": "zrLgOfbN6BkW",
        "outputId": "136822eb-bc95-4968-c98e-1c826b7f862d"
      },
      "execution_count": null,
      "outputs": [
        {
          "output_type": "stream",
          "name": "stdout",
          "text": [
            "enter a number:34\n",
            "enter a number:12\n",
            "enter a number:69\n",
            "c is greater\n"
          ]
        }
      ]
    },
    {
      "cell_type": "code",
      "source": [
        "for i in range(1,501):\n",
        "    if i%5==0:\n",
        "        print(i)"
      ],
      "metadata": {
        "colab": {
          "base_uri": "https://localhost:8080/"
        },
        "id": "BL7gMkcHV8Yl",
        "outputId": "d1d58d89-d073-42bb-9e6d-3a739843f4ac"
      },
      "execution_count": null,
      "outputs": [
        {
          "output_type": "stream",
          "name": "stdout",
          "text": [
            "5\n",
            "10\n",
            "15\n",
            "20\n",
            "25\n",
            "30\n",
            "35\n",
            "40\n",
            "45\n",
            "50\n",
            "55\n",
            "60\n",
            "65\n",
            "70\n",
            "75\n",
            "80\n",
            "85\n",
            "90\n",
            "95\n",
            "100\n",
            "105\n",
            "110\n",
            "115\n",
            "120\n",
            "125\n",
            "130\n",
            "135\n",
            "140\n",
            "145\n",
            "150\n",
            "155\n",
            "160\n",
            "165\n",
            "170\n",
            "175\n",
            "180\n",
            "185\n",
            "190\n",
            "195\n",
            "200\n",
            "205\n",
            "210\n",
            "215\n",
            "220\n",
            "225\n",
            "230\n",
            "235\n",
            "240\n",
            "245\n",
            "250\n",
            "255\n",
            "260\n",
            "265\n",
            "270\n",
            "275\n",
            "280\n",
            "285\n",
            "290\n",
            "295\n",
            "300\n",
            "305\n",
            "310\n",
            "315\n",
            "320\n",
            "325\n",
            "330\n",
            "335\n",
            "340\n",
            "345\n",
            "350\n",
            "355\n",
            "360\n",
            "365\n",
            "370\n",
            "375\n",
            "380\n",
            "385\n",
            "390\n",
            "395\n",
            "400\n",
            "405\n",
            "410\n",
            "415\n",
            "420\n",
            "425\n",
            "430\n",
            "435\n",
            "440\n",
            "445\n",
            "450\n",
            "455\n",
            "460\n",
            "465\n",
            "470\n",
            "475\n",
            "480\n",
            "485\n",
            "490\n",
            "495\n",
            "500\n"
          ]
        }
      ]
    },
    {
      "cell_type": "code",
      "source": [
        "for i in range(1,200):\n",
        "    if i%21==0:\n",
        "        print(i)"
      ],
      "metadata": {
        "colab": {
          "base_uri": "https://localhost:8080/"
        },
        "id": "XG3tvoXfYfgi",
        "outputId": "5eef9d41-71db-4adb-8cd3-0150b6af398e"
      },
      "execution_count": null,
      "outputs": [
        {
          "output_type": "stream",
          "name": "stdout",
          "text": [
            "21\n",
            "42\n",
            "63\n",
            "84\n",
            "105\n",
            "126\n",
            "147\n",
            "168\n",
            "189\n"
          ]
        }
      ]
    },
    {
      "cell_type": "code",
      "source": [
        "a=3\n",
        "b=4\n",
        "k=a**2+b**2+2*a*b\n",
        "print(k)"
      ],
      "metadata": {
        "colab": {
          "base_uri": "https://localhost:8080/"
        },
        "id": "fDF3wvGdhn7P",
        "outputId": "b4ed950a-f74e-456c-af03-67b2a05625c9"
      },
      "execution_count": null,
      "outputs": [
        {
          "output_type": "stream",
          "name": "stdout",
          "text": [
            "49\n"
          ]
        }
      ]
    },
    {
      "cell_type": "code",
      "source": [
        "for i in range(50,101):\n",
        "    if i%1==0:\n",
        "        print(i)"
      ],
      "metadata": {
        "colab": {
          "base_uri": "https://localhost:8080/"
        },
        "id": "bUbgjtk9if-w",
        "outputId": "b0f16f45-71f2-4403-bb6d-724e3aba4536"
      },
      "execution_count": null,
      "outputs": [
        {
          "output_type": "stream",
          "name": "stdout",
          "text": [
            "50\n",
            "51\n",
            "52\n",
            "53\n",
            "54\n",
            "55\n",
            "56\n",
            "57\n",
            "58\n",
            "59\n",
            "60\n",
            "61\n",
            "62\n",
            "63\n",
            "64\n",
            "65\n",
            "66\n",
            "67\n",
            "68\n",
            "69\n",
            "70\n",
            "71\n",
            "72\n",
            "73\n",
            "74\n",
            "75\n",
            "76\n",
            "77\n",
            "78\n",
            "79\n",
            "80\n",
            "81\n",
            "82\n",
            "83\n",
            "84\n",
            "85\n",
            "86\n",
            "87\n",
            "88\n",
            "89\n",
            "90\n",
            "91\n",
            "92\n",
            "93\n",
            "94\n",
            "95\n",
            "96\n",
            "97\n",
            "98\n",
            "99\n",
            "100\n"
          ]
        }
      ]
    },
    {
      "cell_type": "code",
      "source": [
        "def additional(a,b):\n",
        "    print(a+b)\n",
        "def sub(a,b):\n",
        "    print(a-b)\n",
        "\n",
        "additional(1,2)\n",
        "additional(10,100)\n",
        "sub(14,16)\n",
        "sub(100,26)"
      ],
      "metadata": {
        "colab": {
          "base_uri": "https://localhost:8080/"
        },
        "id": "9igftfErlKgN",
        "outputId": "5744588a-b467-4ad9-9b14-84dacd4ee737"
      },
      "execution_count": null,
      "outputs": [
        {
          "output_type": "stream",
          "name": "stdout",
          "text": [
            "3\n",
            "110\n",
            "-2\n",
            "74\n"
          ]
        }
      ]
    },
    {
      "cell_type": "code",
      "source": [
        "#swapping numbers\n",
        "\n",
        "a=int(input(\"enter a number:\"))\n",
        "b=int(input(\"enter a number:\"))\n",
        "a,b=b,a\n",
        "print(a)\n",
        "print(b)"
      ],
      "metadata": {
        "colab": {
          "base_uri": "https://localhost:8080/"
        },
        "id": "Ft3LWF35va7u",
        "outputId": "755a6d2c-f267-4d72-d77b-67cf4246bb69"
      },
      "execution_count": null,
      "outputs": [
        {
          "output_type": "stream",
          "name": "stdout",
          "text": [
            "enter a number:7\n",
            "enter a number:2\n",
            "2\n",
            "7\n"
          ]
        }
      ]
    },
    {
      "cell_type": "code",
      "source": [
        "a=int(input(\"enter a number:\"))\n",
        "b=int(input(\"enter a number:\"))\n",
        "c=int(input(\"enter a number:\"))\n",
        "if(a<b and a<c):\n",
        "    print(\"a is smallest\")\n",
        "elif(b<a and b<c):\n",
        "    print(\"b is smallest\")\n",
        "else:\n",
        "    print(\"c is smallest\")"
      ],
      "metadata": {
        "id": "2YZMFxFQwWSJ",
        "colab": {
          "base_uri": "https://localhost:8080/"
        },
        "outputId": "a797f820-420f-40f1-988e-18ee95649b66"
      },
      "execution_count": null,
      "outputs": [
        {
          "output_type": "stream",
          "name": "stdout",
          "text": [
            "enter a number:69\n",
            "enter a number:190\n",
            "enter a number:45\n",
            "c is smallest\n"
          ]
        }
      ]
    },
    {
      "cell_type": "code",
      "source": [
        "a=\"hello guys.\"\n",
        "x=a.capitalize()\n",
        "print(x)"
      ],
      "metadata": {
        "colab": {
          "base_uri": "https://localhost:8080/"
        },
        "id": "XcS1p4dnN_gp",
        "outputId": "bc9bfa62-e0b3-4aed-c354-531ed8e2bd98"
      },
      "execution_count": null,
      "outputs": [
        {
          "output_type": "stream",
          "name": "stdout",
          "text": [
            "Hello guys.\n"
          ]
        }
      ]
    },
    {
      "cell_type": "code",
      "source": [
        "a=\"Hello,guys\"\n",
        "x=a.casefold()\n",
        "print(x)"
      ],
      "metadata": {
        "colab": {
          "base_uri": "https://localhost:8080/"
        },
        "id": "lNownG2XOfJh",
        "outputId": "d2d4a729-cb05-4f8e-e2d2-7ccaa1249bdd"
      },
      "execution_count": null,
      "outputs": [
        {
          "output_type": "stream",
          "name": "stdout",
          "text": [
            "hello,guys\n"
          ]
        }
      ]
    },
    {
      "cell_type": "code",
      "source": [
        "A=[\"elsa\",\"alex\",\"anna\"]\n",
        "for x in A:\n",
        "    if x==\"anna\":\n",
        "     break\n",
        "    print(x)"
      ],
      "metadata": {
        "colab": {
          "base_uri": "https://localhost:8080/"
        },
        "id": "XNyiYxncqPgl",
        "outputId": "8bee4856-b7e5-4d54-e510-ca57eb3a31cc"
      },
      "execution_count": null,
      "outputs": [
        {
          "output_type": "stream",
          "name": "stdout",
          "text": [
            "elsa\n",
            "alex\n"
          ]
        }
      ]
    },
    {
      "cell_type": "code",
      "source": [
        "for x in range(1,6):\n",
        "  for y in range(1,x+1):\n",
        "    print(\"*\",end=\"\")\n",
        "  print()"
      ],
      "metadata": {
        "colab": {
          "base_uri": "https://localhost:8080/"
        },
        "id": "iRo2TMOS72NM",
        "outputId": "5a61c384-5a6c-4ce8-cbac-d0ced53a2dcc"
      },
      "execution_count": null,
      "outputs": [
        {
          "output_type": "stream",
          "name": "stdout",
          "text": [
            "*\n",
            "**\n",
            "***\n",
            "****\n",
            "*****\n"
          ]
        }
      ]
    },
    {
      "cell_type": "code",
      "source": [
        "for x in range(1,6):\n",
        "  for y in range(6,x,-1):\n",
        "    print(\"*\",end=\" \")\n",
        "  print()"
      ],
      "metadata": {
        "colab": {
          "base_uri": "https://localhost:8080/"
        },
        "id": "VIvxnXBmPoXA",
        "outputId": "6fb4d154-7781-43c7-9e7b-ba74dff90b85"
      },
      "execution_count": null,
      "outputs": [
        {
          "output_type": "stream",
          "name": "stdout",
          "text": [
            "* * * * * \n",
            "* * * * \n",
            "* * * \n",
            "* * \n",
            "* \n"
          ]
        }
      ]
    },
    {
      "cell_type": "code",
      "source": [
        "for x in range(1,6):\n",
        "  for y in range(1,6):\n",
        "      print(\"*\",end=\"\")\n",
        "  print()"
      ],
      "metadata": {
        "colab": {
          "base_uri": "https://localhost:8080/"
        },
        "id": "9Tb6DMDzCQUV",
        "outputId": "ac8fe082-03cd-4cf0-bca4-8db50f7c9ef2"
      },
      "execution_count": null,
      "outputs": [
        {
          "output_type": "stream",
          "name": "stdout",
          "text": [
            "*****\n",
            "*****\n",
            "*****\n",
            "*****\n",
            "*****\n"
          ]
        }
      ]
    },
    {
      "cell_type": "code",
      "source": [
        "for x in range(1, 6):\n",
        "    for y in range(5, x, -1):\n",
        "        print(\" \", end=\"\")\n",
        "    for z in range(0, x):\n",
        "        print(\"*\", end=\"\")\n",
        "    print()"
      ],
      "metadata": {
        "colab": {
          "base_uri": "https://localhost:8080/"
        },
        "id": "5gCDFhxKCiK3",
        "outputId": "df23cf74-428b-4f39-cb7f-919357bdf8b2"
      },
      "execution_count": null,
      "outputs": [
        {
          "output_type": "stream",
          "name": "stdout",
          "text": [
            "    *\n",
            "   **\n",
            "  ***\n",
            " ****\n",
            "*****\n"
          ]
        }
      ]
    },
    {
      "cell_type": "code",
      "source": [
        "for x in range(5, 0, -1):\n",
        "    for y in range(x, 5):\n",
        "        print(\" \", end=\"\")\n",
        "    for z in range(0, x):\n",
        "        print(\"*\", end=\"\")\n",
        "    print()"
      ],
      "metadata": {
        "colab": {
          "base_uri": "https://localhost:8080/"
        },
        "id": "jtiXkdImc6dE",
        "outputId": "15fd29c9-d8ca-44f2-f868-5454a14cf079"
      },
      "execution_count": null,
      "outputs": [
        {
          "output_type": "stream",
          "name": "stdout",
          "text": [
            "*****\n",
            " ****\n",
            "  ***\n",
            "   **\n",
            "    *\n"
          ]
        }
      ]
    },
    {
      "cell_type": "code",
      "source": [
        "n=5\n",
        "for i in range(1,n+1):\n",
        "  print(\" \"*(n-i)+'*'*(2*i-1))\n",
        "for i in range(n-1,0,-1):\n",
        "  print(\" \"*(n-i)+'*'*(2*i-1))"
      ],
      "metadata": {
        "colab": {
          "base_uri": "https://localhost:8080/"
        },
        "id": "e0qyvm3oQxKG",
        "outputId": "95054e47-4936-48f7-a7fb-a65edfa339cf"
      },
      "execution_count": null,
      "outputs": [
        {
          "output_type": "stream",
          "name": "stdout",
          "text": [
            "    *\n",
            "   ***\n",
            "  *****\n",
            " *******\n",
            "*********\n",
            " *******\n",
            "  *****\n",
            "   ***\n",
            "    *\n"
          ]
        }
      ]
    },
    {
      "cell_type": "code",
      "source": [
        "a=int(input())\n",
        "for i in range(a,0,-1):\n",
        "  for j in range(a,i,-1):\n",
        "    print(\" \",end=\" \")\n",
        "  for j in range((2*i)-1):\n",
        "    print(\"*\",end=\" \")\n",
        "  print()"
      ],
      "metadata": {
        "colab": {
          "base_uri": "https://localhost:8080/"
        },
        "id": "AmIs1L70UiJ2",
        "outputId": "f56b6d1b-a01c-4f14-c513-aa29575fd5dd"
      },
      "execution_count": null,
      "outputs": [
        {
          "output_type": "stream",
          "name": "stdout",
          "text": [
            "7\n",
            "* * * * * * * * * * * * * \n",
            "  * * * * * * * * * * * \n",
            "    * * * * * * * * * \n",
            "      * * * * * * * \n",
            "        * * * * * \n",
            "          * * * \n",
            "            * \n"
          ]
        }
      ]
    },
    {
      "cell_type": "code",
      "source": [
        "n=int(input())\n",
        "for i in range(n):\n",
        "  print(\" \"*(n-i-1),end=\" \")\n",
        "  print(\"* \"*(i+1))"
      ],
      "metadata": {
        "colab": {
          "base_uri": "https://localhost:8080/"
        },
        "id": "7jjU7PT4XpFc",
        "outputId": "1c71ec60-8471-40c8-ac88-44eb4808bce0"
      },
      "execution_count": null,
      "outputs": [
        {
          "output_type": "stream",
          "name": "stdout",
          "text": [
            "6\n",
            "      * \n",
            "     * * \n",
            "    * * * \n",
            "   * * * * \n",
            "  * * * * * \n",
            " * * * * * * \n"
          ]
        }
      ]
    },
    {
      "cell_type": "code",
      "source": [
        "for x in range(65,70):\n",
        "   for y in range(65,x+1):\n",
        "      print(chr(y),end=\" \")\n",
        "   print()"
      ],
      "metadata": {
        "colab": {
          "base_uri": "https://localhost:8080/"
        },
        "id": "znWDICfF593C",
        "outputId": "1314697d-b2c9-468a-d2e5-b34c9d168c4e"
      },
      "execution_count": null,
      "outputs": [
        {
          "output_type": "stream",
          "name": "stdout",
          "text": [
            "A \n",
            "A B \n",
            "A B C \n",
            "A B C D \n",
            "A B C D E \n"
          ]
        }
      ]
    },
    {
      "cell_type": "code",
      "source": [
        "for x in range(65,70):\n",
        "   for y in range(65,x+1):\n",
        "      print(chr(x),end=\" \")\n",
        "   print()"
      ],
      "metadata": {
        "colab": {
          "base_uri": "https://localhost:8080/"
        },
        "id": "11kPKOUlAxI2",
        "outputId": "f6e8738b-e8e6-41fc-8bf5-211d232a3f8a"
      },
      "execution_count": null,
      "outputs": [
        {
          "output_type": "stream",
          "name": "stdout",
          "text": [
            "A \n",
            "B B \n",
            "C C C \n",
            "D D D D \n",
            "E E E E E \n"
          ]
        }
      ]
    },
    {
      "cell_type": "code",
      "source": [
        "for x in range(65,70):\n",
        "   for y in range(1,6):\n",
        "      print(chr(x),end=\" \")\n",
        "   print()"
      ],
      "metadata": {
        "colab": {
          "base_uri": "https://localhost:8080/"
        },
        "id": "-J7U4EVsGMMx",
        "outputId": "c6a048c5-8826-43ea-eaae-70cf6095e37f"
      },
      "execution_count": null,
      "outputs": [
        {
          "output_type": "stream",
          "name": "stdout",
          "text": [
            "A A A A A \n",
            "B B B B B \n",
            "C C C C C \n",
            "D D D D D \n",
            "E E E E E \n"
          ]
        }
      ]
    },
    {
      "cell_type": "code",
      "source": [
        "for x in range(1,6):\n",
        "   for y in range(65,70):\n",
        "      print(chr(y),end=\" \")\n",
        "   print()"
      ],
      "metadata": {
        "id": "r3FK5eMpGUl0",
        "outputId": "79c7257b-223d-4bb4-f453-5ce8742a6820",
        "colab": {
          "base_uri": "https://localhost:8080/"
        }
      },
      "execution_count": null,
      "outputs": [
        {
          "output_type": "stream",
          "name": "stdout",
          "text": [
            "A B C D E \n",
            "A B C D E \n",
            "A B C D E \n",
            "A B C D E \n",
            "A B C D E \n"
          ]
        }
      ]
    },
    {
      "cell_type": "code",
      "source": [
        "n=int(input())\n",
        "sum_n=0\n",
        "for i in range(1,n+1):\n",
        "    sum_n+=i\n",
        "print(sum_n)"
      ],
      "metadata": {
        "colab": {
          "base_uri": "https://localhost:8080/"
        },
        "id": "NWFrMpyOMtcL",
        "outputId": "e82595f9-f7e8-4b4f-ef93-f0367c2440b9"
      },
      "execution_count": null,
      "outputs": [
        {
          "output_type": "stream",
          "name": "stdout",
          "text": [
            "1035\n",
            "536130\n"
          ]
        }
      ]
    },
    {
      "cell_type": "code",
      "source": [
        "a=int(input())\n",
        "b=int(input())\n",
        "for i in range(b):\n",
        "    print(\"*\"*a)"
      ],
      "metadata": {
        "colab": {
          "base_uri": "https://localhost:8080/"
        },
        "id": "UaJgwOokCHnz",
        "outputId": "59705326-c782-47c3-ecc1-3b72bdd8f49f"
      },
      "execution_count": null,
      "outputs": [
        {
          "output_type": "stream",
          "name": "stdout",
          "text": [
            "8\n",
            "3\n",
            "********\n",
            "********\n",
            "********\n"
          ]
        }
      ]
    },
    {
      "cell_type": "code",
      "source": [
        "a=input(\"enter an alphabet:\")\n",
        "if a in('a','e','i','o','u','A','E','I','O','U'):\n",
        "    print(a,\"is an vowel\")\n",
        "else:\n",
        "    print(a,\"is not an vowel\")"
      ],
      "metadata": {
        "colab": {
          "base_uri": "https://localhost:8080/"
        },
        "id": "UwrH-7MvFIme",
        "outputId": "84a58f54-7ae1-489e-f48d-6f8685598172"
      },
      "execution_count": null,
      "outputs": [
        {
          "output_type": "stream",
          "name": "stdout",
          "text": [
            "enter an alphabet:O\n",
            "O is an vowel\n"
          ]
        }
      ]
    },
    {
      "cell_type": "code",
      "source": [
        "n=int(input(\"enter a number:\"))\n",
        "for i in range(1,31):\n",
        "   print(n,\"*\",i,\"=\",n*i)"
      ],
      "metadata": {
        "colab": {
          "base_uri": "https://localhost:8080/"
        },
        "id": "wrJgGIPSYv9n",
        "outputId": "4235ff31-ea10-439b-c7b7-6dd8d2423141"
      },
      "execution_count": null,
      "outputs": [
        {
          "output_type": "stream",
          "name": "stdout",
          "text": [
            "enter a number:6\n",
            "6 * 1 = 6\n",
            "6 * 2 = 12\n",
            "6 * 3 = 18\n",
            "6 * 4 = 24\n",
            "6 * 5 = 30\n",
            "6 * 6 = 36\n",
            "6 * 7 = 42\n",
            "6 * 8 = 48\n",
            "6 * 9 = 54\n",
            "6 * 10 = 60\n",
            "6 * 11 = 66\n",
            "6 * 12 = 72\n",
            "6 * 13 = 78\n",
            "6 * 14 = 84\n",
            "6 * 15 = 90\n",
            "6 * 16 = 96\n",
            "6 * 17 = 102\n",
            "6 * 18 = 108\n",
            "6 * 19 = 114\n",
            "6 * 20 = 120\n",
            "6 * 21 = 126\n",
            "6 * 22 = 132\n",
            "6 * 23 = 138\n",
            "6 * 24 = 144\n",
            "6 * 25 = 150\n",
            "6 * 26 = 156\n",
            "6 * 27 = 162\n",
            "6 * 28 = 168\n",
            "6 * 29 = 174\n",
            "6 * 30 = 180\n"
          ]
        }
      ]
    },
    {
      "cell_type": "code",
      "source": [
        "a=int(input())\n",
        "for i in range(1,a):\n",
        "  if(a%i==0):\n",
        "      print(a,\"is a prime\")\n",
        "      break\n",
        "  else:\n",
        "      print(a,\"is not a prime\")"
      ],
      "metadata": {
        "colab": {
          "base_uri": "https://localhost:8080/"
        },
        "id": "DubGydTNZNq7",
        "outputId": "77670af9-e18e-41b9-d595-b55c7edba6e6"
      },
      "execution_count": null,
      "outputs": [
        {
          "output_type": "stream",
          "name": "stdout",
          "text": [
            "3\n",
            "3 is a prime\n"
          ]
        }
      ]
    },
    {
      "cell_type": "code",
      "source": [
        "n = int(input(\"Enter a positive integer: \"))\n",
        "sum_n = n * (n + 1) // 2\n",
        "print(\"The sum of the first\",n,\"natural numbers is:\",{sum_n})"
      ],
      "metadata": {
        "colab": {
          "base_uri": "https://localhost:8080/"
        },
        "id": "MVBS5q-fbW9f",
        "outputId": "906bd84a-579c-4f30-c56d-581e2fb68099"
      },
      "execution_count": null,
      "outputs": [
        {
          "output_type": "stream",
          "name": "stdout",
          "text": [
            "Enter a positive integer: 5\n",
            "The sum of the first 5 natural numbers is: {15}\n"
          ]
        }
      ]
    },
    {
      "cell_type": "code",
      "source": [
        "a=int(input())\n",
        "if(a%2==0):\n",
        "    print(\"even\")\n",
        "else:\n",
        "    print(\"odd\")"
      ],
      "metadata": {
        "colab": {
          "base_uri": "https://localhost:8080/"
        },
        "id": "9kRUJFvmstVG",
        "outputId": "56a77de7-5533-43ea-db60-16fe00228ea3"
      },
      "execution_count": null,
      "outputs": [
        {
          "output_type": "stream",
          "name": "stdout",
          "text": [
            "7\n",
            "odd\n"
          ]
        }
      ]
    },
    {
      "cell_type": "code",
      "source": [
        "year=int(input(\"Enter year:\"))\n",
        "if(year%4==0 and year%100!= 0 or year%400==0):\n",
        "   print(\"leap year!\")\n",
        "else:\n",
        "   print(\"not a leap year!\")"
      ],
      "metadata": {
        "colab": {
          "base_uri": "https://localhost:8080/"
        },
        "id": "fm2SYbf5ONnJ",
        "outputId": "2c38ea25-4373-4e3e-d7cc-9abfc73a4a87"
      },
      "execution_count": null,
      "outputs": [
        {
          "output_type": "stream",
          "name": "stdout",
          "text": [
            "Enter year:5853\n",
            "not a leap year!\n"
          ]
        }
      ]
    },
    {
      "cell_type": "code",
      "source": [
        "x={\"name\":\"John\",\"age\":18}\n",
        "print(x.keys())\n",
        "print(x.values())\n",
        "print(x.items())\n",
        "print(x)\n",
        "print(type(x))"
      ],
      "metadata": {
        "colab": {
          "base_uri": "https://localhost:8080/"
        },
        "id": "v0R6YUSxDT-w",
        "outputId": "8b9535a7-20c3-4a47-e0d2-d1d18eaa5691"
      },
      "execution_count": null,
      "outputs": [
        {
          "output_type": "stream",
          "name": "stdout",
          "text": [
            "dict_keys(['name', 'age'])\n",
            "dict_values(['John', 18])\n",
            "dict_items([('name', 'John'), ('age', 18)])\n",
            "{'name': 'John', 'age': 18}\n",
            "<class 'dict'>\n"
          ]
        }
      ]
    },
    {
      "cell_type": "code",
      "source": [
        "x=5\n",
        "print(x)\n",
        "(type(x))"
      ],
      "metadata": {
        "colab": {
          "base_uri": "https://localhost:8080/"
        },
        "id": "ZLFI-_leS7cO",
        "outputId": "b607f8e0-0221-4eed-cb24-f27b92aac12d"
      },
      "execution_count": null,
      "outputs": [
        {
          "output_type": "stream",
          "name": "stdout",
          "text": [
            "5\n"
          ]
        },
        {
          "output_type": "execute_result",
          "data": {
            "text/plain": [
              "int"
            ]
          },
          "metadata": {},
          "execution_count": 2
        }
      ]
    },
    {
      "cell_type": "code",
      "source": [
        "x=0.1\n",
        "print(x)\n",
        "(type(x))"
      ],
      "metadata": {
        "colab": {
          "base_uri": "https://localhost:8080/"
        },
        "id": "D9PgpPAtTC_q",
        "outputId": "b37eb68c-e266-467a-acad-b8e992cb3719"
      },
      "execution_count": null,
      "outputs": [
        {
          "output_type": "stream",
          "name": "stdout",
          "text": [
            "0.1\n"
          ]
        },
        {
          "output_type": "execute_result",
          "data": {
            "text/plain": [
              "float"
            ]
          },
          "metadata": {},
          "execution_count": 3
        }
      ]
    },
    {
      "cell_type": "code",
      "source": [
        "x=\"Hello\"\n",
        "print(x)\n",
        "(type(x))"
      ],
      "metadata": {
        "colab": {
          "base_uri": "https://localhost:8080/"
        },
        "id": "uSB-1PwFTJ1N",
        "outputId": "c306d545-815c-4665-89ee-ce94d28872dc"
      },
      "execution_count": null,
      "outputs": [
        {
          "output_type": "stream",
          "name": "stdout",
          "text": [
            "Hello\n"
          ]
        },
        {
          "output_type": "execute_result",
          "data": {
            "text/plain": [
              "str"
            ]
          },
          "metadata": {},
          "execution_count": 4
        }
      ]
    },
    {
      "cell_type": "code",
      "source": [
        "x=True\n",
        "print(x)\n",
        "(type(x))"
      ],
      "metadata": {
        "colab": {
          "base_uri": "https://localhost:8080/"
        },
        "id": "z1ae2HBQTQdi",
        "outputId": "9bd3a763-4511-4d55-ed1d-005f5b14ad56"
      },
      "execution_count": null,
      "outputs": [
        {
          "output_type": "stream",
          "name": "stdout",
          "text": [
            "True\n"
          ]
        },
        {
          "output_type": "execute_result",
          "data": {
            "text/plain": [
              "bool"
            ]
          },
          "metadata": {},
          "execution_count": 5
        }
      ]
    },
    {
      "cell_type": "code",
      "source": [
        "x=3+5j\n",
        "print(x)\n",
        "(type(x))"
      ],
      "metadata": {
        "colab": {
          "base_uri": "https://localhost:8080/"
        },
        "id": "CQNHh6NoTSGA",
        "outputId": "853b708c-b9e5-4ccb-a090-24827b351a9e"
      },
      "execution_count": null,
      "outputs": [
        {
          "output_type": "stream",
          "name": "stdout",
          "text": [
            "(3+5j)\n"
          ]
        },
        {
          "output_type": "execute_result",
          "data": {
            "text/plain": [
              "complex"
            ]
          },
          "metadata": {},
          "execution_count": 6
        }
      ]
    },
    {
      "cell_type": "code",
      "source": [
        "x=[\"apple\",\"banana\", \"cherry\"]\n",
        "print(x)\n",
        "(type(x))"
      ],
      "metadata": {
        "colab": {
          "base_uri": "https://localhost:8080/"
        },
        "id": "5ToQvc0CTVII",
        "outputId": "60483ee9-75c1-4a79-e490-3ab6446f93f2"
      },
      "execution_count": null,
      "outputs": [
        {
          "output_type": "stream",
          "name": "stdout",
          "text": [
            "['apple', 'banana', 'cherry']\n"
          ]
        },
        {
          "output_type": "execute_result",
          "data": {
            "text/plain": [
              "list"
            ]
          },
          "metadata": {},
          "execution_count": 7
        }
      ]
    },
    {
      "cell_type": "code",
      "source": [
        "x=5\n",
        "print(x)\n",
        "(type(x))"
      ],
      "metadata": {
        "colab": {
          "base_uri": "https://localhost:8080/"
        },
        "id": "GHa1d6r3TdqF",
        "outputId": "71406ba9-674e-46c8-f93f-84c0a16ab5f7"
      },
      "execution_count": null,
      "outputs": [
        {
          "output_type": "stream",
          "name": "stdout",
          "text": [
            "5\n"
          ]
        },
        {
          "output_type": "execute_result",
          "data": {
            "text/plain": [
              "int"
            ]
          },
          "metadata": {},
          "execution_count": 8
        }
      ]
    }
  ],
  "metadata": {
    "colab": {
      "provenance": [],
      "toc_visible": true,
      "authorship_tag": "ABX9TyOinHLWIYL9JmrBaMATDkBj",
      "include_colab_link": true
    },
    "kernelspec": {
      "display_name": "Python 3",
      "name": "python3"
    },
    "language_info": {
      "name": "python"
    }
  },
  "nbformat": 4,
  "nbformat_minor": 0
}